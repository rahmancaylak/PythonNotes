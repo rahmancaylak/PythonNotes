{
 "cells": [
  {
   "cell_type": "markdown",
   "metadata": {},
   "source": [
    "# Python Notlarım! (Güncelleniyor)"
   ]
  },
  {
   "cell_type": "markdown",
   "metadata": {},
   "source": [
    " ## Basit İşlemler\n",
    " * Aşağıda görüldüğü üzere herhangi bir değişkene atama yapılmadan da dört işlem ve ekrana yazı yazdırabiliyoruz. Tabii bu ekrana yazdırabilme kolaylığını Jupyter gibi araçlar sunuyor. Aşağılarda detaylı anlatımlar mevcut.\n"
   ]
  },
  {
   "cell_type": "code",
   "execution_count": 1,
   "metadata": {},
   "outputs": [
    {
     "data": {
      "text/plain": [
       "25"
      ]
     },
     "execution_count": 1,
     "metadata": {},
     "output_type": "execute_result"
    }
   ],
   "source": [
    "20 + 5"
   ]
  },
  {
   "cell_type": "code",
   "execution_count": 2,
   "metadata": {},
   "outputs": [
    {
     "data": {
      "text/plain": [
       "-3"
      ]
     },
     "execution_count": 2,
     "metadata": {},
     "output_type": "execute_result"
    }
   ],
   "source": [
    "9 - 12"
   ]
  },
  {
   "cell_type": "code",
   "execution_count": 3,
   "metadata": {},
   "outputs": [
    {
     "data": {
      "text/plain": [
       "7.142857142857143"
      ]
     },
     "execution_count": 3,
     "metadata": {},
     "output_type": "execute_result"
    }
   ],
   "source": [
    "50 / 7"
   ]
  },
  {
   "cell_type": "code",
   "execution_count": 4,
   "metadata": {
    "scrolled": true
   },
   "outputs": [
    {
     "data": {
      "text/plain": [
       "60"
      ]
     },
     "execution_count": 4,
     "metadata": {},
     "output_type": "execute_result"
    }
   ],
   "source": [
    "12 * 5"
   ]
  },
  {
   "cell_type": "code",
   "execution_count": 5,
   "metadata": {},
   "outputs": [
    {
     "data": {
      "text/plain": [
       "'Merhaba Dünya'"
      ]
     },
     "execution_count": 5,
     "metadata": {},
     "output_type": "execute_result"
    }
   ],
   "source": [
    "\"Merhaba Dünya\""
   ]
  },
  {
   "cell_type": "markdown",
   "metadata": {},
   "source": [
    "## Değişkenler ve Veri Tipleri (Variables and Data Types)"
   ]
  },
  {
   "cell_type": "markdown",
   "metadata": {},
   "source": [
    "- Buradaki sorular güncellenebilir, aklında soru mu var? SOR :)\n",
    "* Neden değişken kullanmalıyız o zaman? - Jupter, anlık değişikleri görebilmeniz için size bir kolaylık sunmuş olabilir ama bu bir yanlış kullanımdır. Çünkü, üstteki gibi kullanımda program hata verecektir. Ekrana yazı yazdırmak veya veritabanına bir bilgi göndermek istediğinizde değişken kullanmak zorundasınız.\n",
    "* Değişken kullandık peki o kalıcı mı? - Değişkenler, RAM dediğimiz belleklerde tutulur. Yani, RAM'in çalışma mantığını biliyorsanız cevabınızı çoktan ulaşmışsınızdır. RAM(Random Access Memory), bilgileri rastgele bölgelerde programın açık olduğu sürece saklar. Kapatıp açtıktan sonra o bilgiler yeniden rastgele yerlere dağılır, eski yerlerine de farklı bilgiler gelir.\n",
    "* O zaman kullanmaya gerek yok ne de olsa kalıcı değil? - Böyle düşünmen normal, ilerledikçe değişkenleri daha iyi anlayacaksın. Veritabanından gelen veriyi bir değişkene eşitleyerek o değişkeni kullanabiliriz. Zaten değişkenleri tek başına kullanmıyoruz. Kısaca kullanımından bahsetmek gerekirse şu değişkeni, şu tablodaki değere eşitle diyoruz. Böylece veritabanı sayesinde bilgilerimizi kalıcı hale getirmiş oluyoruz."
   ]
  },
  {
   "cell_type": "code",
   "execution_count": 1,
   "metadata": {},
   "outputs": [
    {
     "data": {
      "text/plain": [
       "4"
      ]
     },
     "execution_count": 1,
     "metadata": {},
     "output_type": "execute_result"
    }
   ],
   "source": [
    "2 + 2"
   ]
  },
  {
   "cell_type": "code",
   "execution_count": 32,
   "metadata": {},
   "outputs": [
    {
     "name": "stdout",
     "output_type": "stream",
     "text": [
      "4\n"
     ]
    }
   ],
   "source": [
    "# Bir değişken oluşturduk ve bu değişkenin değerine 2 + 2 = 4 olmak üzere değer atadık.\n",
    "yazilanDeger = 2 + 2\n",
    "# Daha sonra oluşturduğumuz bu değişkeni print fonksiyonu ile ekrana yazdırıyoruz.\n",
    "'''SORU: Biz normalde 2 + 2 yaptığımızda 4 sonucunu görüyoruz, ne gerek var ki print'e?\n",
    "CEVAP: Jupyter bize anlık değişiklikleri görebilmemiz için kolaylık sağlamış. Dosyalarda ekrana yazı yazdırmak\n",
    "istediğimizde hata ile karşılacaksınız. Bu hatalarla karşılaşmamak için print fonksiyonunu kullanmak önemli. Yukarıda neden\n",
    "değişken kullanmalıyız sorusuna cevaplardan biri de bu.\n",
    "'''\n",
    "# print() parantez içinde bulunan değerleri ekrana yazdırır. Tabii bu kullanımında kuralları var.\n",
    "# parantez içine değişken adını yazarak değeri ekrana yazdırabiliriz.\n",
    "print(yazilanDeger)"
   ]
  },
  {
   "cell_type": "code",
   "execution_count": 33,
   "metadata": {},
   "outputs": [
    {
     "name": "stdout",
     "output_type": "stream",
     "text": [
      "Yazılan değer:  4\n"
     ]
    }
   ],
   "source": [
    "# parantez içine çift tırnak ya da tek tırnak açarak değeri öyle de yazdırabilirsiniz.\n",
    "print(\"Yazılan değer: \",yazilanDeger)"
   ]
  },
  {
   "cell_type": "code",
   "execution_count": 34,
   "metadata": {},
   "outputs": [
    {
     "name": "stdout",
     "output_type": "stream",
     "text": [
      "Yazılan değer:  4\n"
     ]
    }
   ],
   "source": [
    "print('Yazılan değer: ',yazilanDeger)"
   ]
  },
  {
   "cell_type": "code",
   "execution_count": 31,
   "metadata": {},
   "outputs": [
    {
     "ename": "SyntaxError",
     "evalue": "invalid syntax (<ipython-input-31-9ccf04944852>, line 2)",
     "output_type": "error",
     "traceback": [
      "\u001b[1;36m  File \u001b[1;32m\"<ipython-input-31-9ccf04944852>\"\u001b[1;36m, line \u001b[1;32m2\u001b[0m\n\u001b[1;33m    print('Yazılan değer: 'yazilanDeger)\u001b[0m\n\u001b[1;37m                           ^\u001b[0m\n\u001b[1;31mSyntaxError\u001b[0m\u001b[1;31m:\u001b[0m invalid syntax\n"
     ]
    }
   ],
   "source": [
    "# Virgül kullanmadan yazarsanız invalid syntax hatasını alacaksınız.\n",
    "print('Yazılan değer: 'yazilanDeger)"
   ]
  },
  {
   "cell_type": "markdown",
   "metadata": {},
   "source": [
    "## Veri Tipi Döünüşümleri (Data Type Conversion)\n",
    "* Dönüştürmek istediğimiz değişkenin önüne veritipi(degisken) yazarak dönüştürme yapabiliyoruz."
   ]
  },
  {
   "cell_type": "code",
   "execution_count": 21,
   "metadata": {},
   "outputs": [
    {
     "data": {
      "text/plain": [
       "5.0"
      ]
     },
     "execution_count": 21,
     "metadata": {},
     "output_type": "execute_result"
    }
   ],
   "source": [
    "# Tam sayı bir değer tanımlıyoruz ve değerine 5 atıyoruz.\n",
    "sayi = 5\n",
    "# float(sayi) ise değişkenin değerini ondalık değere dönüştürüyor. Böylece 5 diye çıktı alacağımız değer 5.0 olarak alacağız.\n",
    "float(sayi)"
   ]
  },
  {
   "cell_type": "code",
   "execution_count": 22,
   "metadata": {},
   "outputs": [
    {
     "data": {
      "text/plain": [
       "41356"
      ]
     },
     "execution_count": 22,
     "metadata": {},
     "output_type": "execute_result"
    }
   ],
   "source": [
    "# NOT: Eğer string ifadenin içinde sadece sayılar varsa sayılara dönüştürme işlemi kolayca yapılabilir.\n",
    "sayiString = \"41356\"\n",
    "# Böylece string ifadenin içindeki sayılar tam sayı değerlere dönüştürülmüş oldu.\n",
    "int(sayiString)"
   ]
  },
  {
   "cell_type": "code",
   "execution_count": 23,
   "metadata": {},
   "outputs": [
    {
     "ename": "ValueError",
     "evalue": "invalid literal for int() with base 10: '4365ab'",
     "output_type": "error",
     "traceback": [
      "\u001b[1;31m---------------------------------------------------------------------------\u001b[0m",
      "\u001b[1;31mValueError\u001b[0m                                Traceback (most recent call last)",
      "\u001b[1;32m<ipython-input-23-a1db2488a09e>\u001b[0m in \u001b[0;36m<module>\u001b[1;34m\u001b[0m\n\u001b[0;32m      2\u001b[0m \u001b[0msayiHarfli\u001b[0m \u001b[1;33m=\u001b[0m \u001b[1;34m\"4365ab\"\u001b[0m\u001b[1;33m\u001b[0m\u001b[1;33m\u001b[0m\u001b[0m\n\u001b[0;32m      3\u001b[0m \u001b[1;31m# ValueError hatası almış olacağız böylece.\u001b[0m\u001b[1;33m\u001b[0m\u001b[1;33m\u001b[0m\u001b[1;33m\u001b[0m\u001b[0m\n\u001b[1;32m----> 4\u001b[1;33m \u001b[0mint\u001b[0m\u001b[1;33m(\u001b[0m\u001b[0msayiHarfli\u001b[0m\u001b[1;33m)\u001b[0m\u001b[1;33m\u001b[0m\u001b[1;33m\u001b[0m\u001b[0m\n\u001b[0m",
      "\u001b[1;31mValueError\u001b[0m: invalid literal for int() with base 10: '4365ab'"
     ]
    }
   ],
   "source": [
    "# DİKKAT: Eğer harf falan varsa ne olur bir de ona bakalım.\n",
    "sayiHarfli = \"4365ab\"\n",
    "# ValueError hatası almış olacağız böylece.\n",
    "int(sayiHarfli)"
   ]
  },
  {
   "cell_type": "code",
   "execution_count": 12,
   "metadata": {},
   "outputs": [
    {
     "data": {
      "text/plain": [
       "'43434'"
      ]
     },
     "execution_count": 12,
     "metadata": {},
     "output_type": "execute_result"
    }
   ],
   "source": [
    "# Sayılardan stringe dönüştürürken hiçbir problem olmaz.\n",
    "tamSayi = 43434\n",
    "str(tamSayi)"
   ]
  },
  {
   "cell_type": "markdown",
   "metadata": {},
   "source": [
    "## type() fonksiyonu\n",
    "* Bu fonksiyon sayesinde hangi veri tipine sahip olduğunu görebilirsiniz.\n",
    "* type(degiskenadi) şeklinde kullanılır."
   ]
  },
  {
   "cell_type": "code",
   "execution_count": 15,
   "metadata": {},
   "outputs": [
    {
     "data": {
      "text/plain": [
       "int"
      ]
     },
     "execution_count": 15,
     "metadata": {},
     "output_type": "execute_result"
    }
   ],
   "source": [
    "type(tamSayi)\n",
    "# Gördüğünüz gibi dönüştürme işlemi yapıldı ama kalıcı olmadı. Çünkü bir değişkene vs tanımlamadık."
   ]
  },
  {
   "cell_type": "code",
   "execution_count": 40,
   "metadata": {},
   "outputs": [
    {
     "data": {
      "text/plain": [
       "str"
      ]
     },
     "execution_count": 40,
     "metadata": {},
     "output_type": "execute_result"
    }
   ],
   "source": [
    "stringTamSayi = str(tamSayi)\n",
    "type(stringTamSayi)"
   ]
  },
  {
   "cell_type": "markdown",
   "metadata": {},
   "source": [
    "## Print Fonksiyonu Detaylı"
   ]
  },
  {
   "cell_type": "code",
   "execution_count": 1,
   "metadata": {},
   "outputs": [
    {
     "name": "stdout",
     "output_type": "stream",
     "text": [
      "Rahman 21 Çaylak\n"
     ]
    }
   ],
   "source": [
    "# Birden fazla değeri yan yana ekrana yazdırabiliriz.\n",
    "print(\"Rahman\",21,\"Çaylak\")"
   ]
  },
  {
   "cell_type": "code",
   "execution_count": 16,
   "metadata": {},
   "outputs": [
    {
     "name": "stdout",
     "output_type": "stream",
     "text": [
      "Bu bir\n",
      "alt satıra alan karakterdir.\n"
     ]
    }
   ],
   "source": [
    "# String ifadelerde çok kullanılan 2 özel karakter vardır.\n",
    "# 1. \\n\n",
    "print(\"Bu bir\\nalt satıra alan karakterdir.\")"
   ]
  },
  {
   "cell_type": "code",
   "execution_count": 17,
   "metadata": {},
   "outputs": [
    {
     "name": "stdout",
     "output_type": "stream",
     "text": [
      "Bu karakter araya \ttab boşluk bırakır!\n"
     ]
    }
   ],
   "source": [
    "#2. \\t\n",
    "print(\"Bu karakter araya \\ttab boşluk bırakır!\")"
   ]
  },
  {
   "cell_type": "code",
   "execution_count": 21,
   "metadata": {},
   "outputs": [
    {
     "name": "stdout",
     "output_type": "stream",
     "text": [
      "Rahman-21-Çaylak\n"
     ]
    }
   ],
   "source": [
    "# sep=\"\"\n",
    "''' Yan yana değerleri yazdığımızda arada boşluklar oluyor. Bunu kullanarak aradaki boşlukta ne olmasını\n",
    "istiyorsak onu parametrenin içine yazıyoruz. Örnekte daha iyi anlaşılacak.\n",
    "'''\n",
    "# Ekrana yazdırdığımızda aralarında kısa çizgi olduğunu göreceksiniz.\n",
    "print(\"Rahman\",21,\"Çaylak\",sep=\"-\")"
   ]
  },
  {
   "cell_type": "code",
   "execution_count": 23,
   "metadata": {},
   "outputs": [
    {
     "ename": "SyntaxError",
     "evalue": "invalid syntax (<ipython-input-23-e9edb3c416cd>, line 2)",
     "output_type": "error",
     "traceback": [
      "\u001b[1;36m  File \u001b[1;32m\"<ipython-input-23-e9edb3c416cd>\"\u001b[1;36m, line \u001b[1;32m2\u001b[0m\n\u001b[1;33m    print(\"Rahman\",21,\"Çaylak\",sep=)\u001b[0m\n\u001b[1;37m                                   ^\u001b[0m\n\u001b[1;31mSyntaxError\u001b[0m\u001b[1;31m:\u001b[0m invalid syntax\n"
     ]
    }
   ],
   "source": [
    "# Ya içine hiçbir şey yazmazsak ne olur? - invalid syntax hatası alırsınız :)\n",
    "print(\"Rahman\",21,\"Çaylak\",sep=)"
   ]
  },
  {
   "cell_type": "code",
   "execution_count": 24,
   "metadata": {},
   "outputs": [
    {
     "name": "stdout",
     "output_type": "stream",
     "text": [
      "Rahman21Çaylak\n"
     ]
    }
   ],
   "source": [
    "# Peki ya tırnakların içine bir şey yazmazsak ne olur? - Aralarındaki boşlukları siler ve birleşik yazar.\n",
    "print(\"Rahman\",21,\"Çaylak\",sep=\"\")"
   ]
  },
  {
   "cell_type": "code",
   "execution_count": 27,
   "metadata": {},
   "outputs": [
    {
     "name": "stdout",
     "output_type": "stream",
     "text": [
      "Rahman\n",
      "21\n",
      "Çaylak\n"
     ]
    }
   ],
   "source": [
    "# String ifadelerde çok kullanılan 2 karakter vardı, onlardan birini de parametreye yazalım mı?\n",
    "print(\"Rahman\",21,\"Çaylak\",sep=\"\\n\")"
   ]
  },
  {
   "cell_type": "code",
   "execution_count": 29,
   "metadata": {},
   "outputs": [
    {
     "name": "stdout",
     "output_type": "stream",
     "text": [
      "R a h m a n\n"
     ]
    }
   ],
   "source": [
    "# Şimdi print'e 3 tane değil 1 tane değer yazalım ve onu tek tek karakterlerine ayıralım. Bunun için tırnağın başına * eklenir.\n",
    "print(*\"Rahman\")"
   ]
  },
  {
   "cell_type": "code",
   "execution_count": 36,
   "metadata": {},
   "outputs": [
    {
     "name": "stdout",
     "output_type": "stream",
     "text": [
      "T.B.M.M\n"
     ]
    }
   ],
   "source": [
    "# Ekrana TBMM yazdırmak istiyoruz ve nokta da olsun diyoruz. Bunu iki şekilde yapabiliriz ama en iyisi 2. yol.\n",
    "# 1.Yol\n",
    "print(\"T\",\"B\",\"M\",\"M\",sep=\".\")"
   ]
  },
  {
   "cell_type": "code",
   "execution_count": 37,
   "metadata": {},
   "outputs": [
    {
     "name": "stdout",
     "output_type": "stream",
     "text": [
      "T.B.M.M\n"
     ]
    }
   ],
   "source": [
    "# 2. Yol: Tırnakların başına yıldız koyarak her birini bir karaktere ayırıyoruz daha sonra sep ile de aralarına nokta koyuyoruz.\n",
    "print(*\"TBMM\",sep=\".\")"
   ]
  },
  {
   "cell_type": "markdown",
   "metadata": {},
   "source": [
    "# Format() Fonksiyonu\n",
    "* Bu ifadeyi C# öğrendiyseniz eğer çok kolay anlayacaksınız. Bilmiyorsanız da üzülmeyin, okumaya devam edelim.\n",
    "* Print içinde süslü parantezler kullanarak, format yardımıyla değerleri sırasıyla ekrana yazdırabiliriz. Farklı kullanımları için örneklere devam edelim."
   ]
  },
  {
   "cell_type": "code",
   "execution_count": 42,
   "metadata": {},
   "outputs": [
    {
     "name": "stdout",
     "output_type": "stream",
     "text": [
      "5 3\n"
     ]
    }
   ],
   "source": [
    "# Birinci süslü paranteze 5, ikinci süslü paranteze ise 3 değerini atamış olduk.\n",
    "print(\"{} {}\".format(5,3))"
   ]
  },
  {
   "cell_type": "code",
   "execution_count": 43,
   "metadata": {},
   "outputs": [
    {
     "name": "stdout",
     "output_type": "stream",
     "text": [
      "45 İkinci değer\n"
     ]
    }
   ],
   "source": [
    "# Direkt değer girmeniz gerekmiyor. Değişkenleri de format yardımıyla yazdırabiliriz.\n",
    "firstValue = 45\n",
    "secondValue = \"İkinci değer\"\n",
    "print(\"{} {}\".format(firstValue,secondValue))"
   ]
  },
  {
   "cell_type": "code",
   "execution_count": 46,
   "metadata": {},
   "outputs": [
    {
     "name": "stdout",
     "output_type": "stream",
     "text": [
      "1 5 4\n"
     ]
    }
   ],
   "source": [
    "# Eğer format içindeki değerleri sırasıyla değil, kendinizin belirttiği şekilde ekrana yazdırmak istiyorsanız\n",
    "print(\"{1} {0} {2}\".format(5,1,4))"
   ]
  },
  {
   "cell_type": "code",
   "execution_count": 54,
   "metadata": {},
   "outputs": [
    {
     "ename": "IndexError",
     "evalue": "Replacement index 3 out of range for positional args tuple",
     "output_type": "error",
     "traceback": [
      "\u001b[1;31m---------------------------------------------------------------------------\u001b[0m",
      "\u001b[1;31mIndexError\u001b[0m                                Traceback (most recent call last)",
      "\u001b[1;32m<ipython-input-54-fabfbe45c1eb>\u001b[0m in \u001b[0;36m<module>\u001b[1;34m\u001b[0m\n\u001b[0;32m      1\u001b[0m \u001b[1;31m# Ya eğer {3} yazsaydık ve format içerisinde ona karşılık bir değer olmasaydı ne olacaktı?\u001b[0m\u001b[1;33m\u001b[0m\u001b[1;33m\u001b[0m\u001b[1;33m\u001b[0m\u001b[0m\n\u001b[1;32m----> 2\u001b[1;33m \u001b[0mprint\u001b[0m\u001b[1;33m(\u001b[0m\u001b[1;34m\"{1} {0} {2} {3}\"\u001b[0m\u001b[1;33m.\u001b[0m\u001b[0mformat\u001b[0m\u001b[1;33m(\u001b[0m\u001b[1;36m5\u001b[0m\u001b[1;33m,\u001b[0m\u001b[1;36m1\u001b[0m\u001b[1;33m,\u001b[0m\u001b[1;36m4\u001b[0m\u001b[1;33m)\u001b[0m\u001b[1;33m)\u001b[0m\u001b[1;33m\u001b[0m\u001b[1;33m\u001b[0m\u001b[0m\n\u001b[0m\u001b[0;32m      3\u001b[0m \u001b[1;31m# Tabii ki hata alacaktınız. O index'e ait değer olmadığı için program ne yaptığınızı anlayamıyor.\u001b[0m\u001b[1;33m\u001b[0m\u001b[1;33m\u001b[0m\u001b[1;33m\u001b[0m\u001b[0m\n",
      "\u001b[1;31mIndexError\u001b[0m: Replacement index 3 out of range for positional args tuple"
     ]
    }
   ],
   "source": [
    "# Ya eğer {3} yazsaydık ve format içerisinde ona karşılık bir değer olmasaydı ne olacaktı?\n",
    "print(\"{1} {0} {2} {3}\".format(5,1,4))\n",
    "# Tabii ki hata alacaktınız. O index'e ait değer olmadığı için program ne yaptığınızı anlayamıyor."
   ]
  },
  {
   "cell_type": "markdown",
   "metadata": {},
   "source": [
    "#### Formatları ezberlemenize gerek yok, sadece böyle bir kullanımın var olduğunu bilmek önemliydi. Artık bildiğinize göre aşağıdaki siteden ihtiyacınız olduğu kullanımlara/durumlara bakabilirsiniz.\n",
    "* https://pyformat.info/"
   ]
  },
  {
   "cell_type": "markdown",
   "metadata": {},
   "source": [
    "## Listeler\n",
    "* Açıklama eklenecek..."
   ]
  },
  {
   "cell_type": "code",
   "execution_count": 1,
   "metadata": {},
   "outputs": [
    {
     "data": {
      "text/plain": [
       "['Rahman', 'Çaylak', 21, 'İstanbul Aydın Üniversitesi', 2018]"
      ]
     },
     "execution_count": 1,
     "metadata": {},
     "output_type": "execute_result"
    }
   ],
   "source": [
    "# Liste, içinde her türlü değişken tipini barındırabiliyor.\n",
    "liste = [\"Rahman\",\"Çaylak\",21,\"İstanbul Aydın Üniversitesi\",2018]\n",
    "liste"
   ]
  },
  {
   "cell_type": "code",
   "execution_count": 3,
   "metadata": {},
   "outputs": [
    {
     "data": {
      "text/plain": [
       "list"
      ]
     },
     "execution_count": 3,
     "metadata": {},
     "output_type": "execute_result"
    }
   ],
   "source": [
    "# Liste tipini de type fonksiyonu ile öğrenebiliriz.\n",
    "type(liste)"
   ]
  },
  {
   "cell_type": "code",
   "execution_count": 4,
   "metadata": {},
   "outputs": [
    {
     "data": {
      "text/plain": [
       "[]"
      ]
     },
     "execution_count": 4,
     "metadata": {},
     "output_type": "execute_result"
    }
   ],
   "source": [
    "# Listeyi iki şekilde oluşturabiliriz.\n",
    "# 1. Yol: değişkenadı = []\n",
    "firstList = []\n",
    "firstList"
   ]
  },
  {
   "cell_type": "code",
   "execution_count": 6,
   "metadata": {},
   "outputs": [
    {
     "data": {
      "text/plain": [
       "[]"
      ]
     },
     "execution_count": 6,
     "metadata": {},
     "output_type": "execute_result"
    }
   ],
   "source": [
    "#2. Yol: değişkenadı = list()\n",
    "secondList = list()\n",
    "secondList"
   ]
  },
  {
   "cell_type": "code",
   "execution_count": 7,
   "metadata": {},
   "outputs": [
    {
     "data": {
      "text/plain": [
       "['R', 'a', 'h', 'm', 'a', 'n']"
      ]
     },
     "execution_count": 7,
     "metadata": {},
     "output_type": "execute_result"
    }
   ],
   "source": [
    "# 2. Yol kullanımı bir yerden tanıdık gelmesi lazım. Evet, veri tiplerini dönüştürürken kullanıyorduk.\n",
    "# O zaman herhangi bir değişkeni listeye çevirebilir miyiz?\n",
    "isim = \"Rahman\"\n",
    "list(isim)\n",
    "# Çalıştırdığınızda string karakterlerini tek tek ayırdığını göreceksiniz."
   ]
  },
  {
   "cell_type": "code",
   "execution_count": 9,
   "metadata": {},
   "outputs": [
    {
     "data": {
      "text/plain": [
       "6"
      ]
     },
     "execution_count": 9,
     "metadata": {},
     "output_type": "execute_result"
    }
   ],
   "source": [
    "# Bir tane daha fonksiyonu öğrenmeyi unuttuk, hadi onu da öğrenelim.\n",
    "len(isim)\n",
    "# isim değişkeninde kaç karakter bulunuyorsa böylece bulabiliyoruz. Bunu listelerde de sayılarda da yapabiliriz."
   ]
  },
  {
   "cell_type": "code",
   "execution_count": 13,
   "metadata": {},
   "outputs": [
    {
     "data": {
      "text/plain": [
       "'Rahman'"
      ]
     },
     "execution_count": 13,
     "metadata": {},
     "output_type": "execute_result"
    }
   ],
   "source": [
    "# Listelerin elemanlarına index sayesinde ulaşabiliriz.\n",
    "# Yukarıdaki tanımladığımız listeyi unuttuysanız eğer:\n",
    "# liste = [\"Rahman\",\"Çaylak\",21,\"İstanbul Aydın Üniversitesi\",2018]\n",
    "liste[0]\n",
    "# Listelerde 0'ıncı elemandan başlayarak değerlere ulaşabilirsiniz."
   ]
  },
  {
   "cell_type": "code",
   "execution_count": 19,
   "metadata": {},
   "outputs": [
    {
     "data": {
      "text/plain": [
       "2018"
      ]
     },
     "execution_count": 19,
     "metadata": {},
     "output_type": "execute_result"
    }
   ],
   "source": [
    "# 0'dan nasıl artarak soldan sağa gidiyorsa, -1'den azalarak sağdan sola değerlere ulaşabiliriz.\n",
    "liste[-1]"
   ]
  },
  {
   "cell_type": "code",
   "execution_count": 18,
   "metadata": {},
   "outputs": [
    {
     "data": {
      "text/plain": [
       "'İstanbul Aydın Üniversitesi'"
      ]
     },
     "execution_count": 18,
     "metadata": {},
     "output_type": "execute_result"
    }
   ],
   "source": [
    "liste[-2]"
   ]
  },
  {
   "cell_type": "code",
   "execution_count": 85,
   "metadata": {},
   "outputs": [
    {
     "ename": "IndexError",
     "evalue": "list index out of range",
     "output_type": "error",
     "traceback": [
      "\u001b[1;31m---------------------------------------------------------------------------\u001b[0m",
      "\u001b[1;31mIndexError\u001b[0m                                Traceback (most recent call last)",
      "\u001b[1;32m<ipython-input-85-ee050efd80e7>\u001b[0m in \u001b[0;36m<module>\u001b[1;34m\u001b[0m\n\u001b[0;32m      1\u001b[0m \u001b[1;31m# Önemli bir olay. Ya listenin olmayan indexine oluşmak istediğimizde ne olur?\u001b[0m\u001b[1;33m\u001b[0m\u001b[1;33m\u001b[0m\u001b[1;33m\u001b[0m\u001b[0m\n\u001b[1;32m----> 2\u001b[1;33m \u001b[0mliste\u001b[0m\u001b[1;33m[\u001b[0m\u001b[1;36m14\u001b[0m\u001b[1;33m]\u001b[0m\u001b[1;33m\u001b[0m\u001b[1;33m\u001b[0m\u001b[0m\n\u001b[0m\u001b[0;32m      3\u001b[0m \u001b[1;31m# Listenin sahip olduğu aralığın dışına çıktığımız için program hata verecektir.\u001b[0m\u001b[1;33m\u001b[0m\u001b[1;33m\u001b[0m\u001b[1;33m\u001b[0m\u001b[0m\n",
      "\u001b[1;31mIndexError\u001b[0m: list index out of range"
     ]
    }
   ],
   "source": [
    "# Önemli bir olay. Ya listenin olmayan indexine oluşmak istediğimizde ne olur?\n",
    "liste[14]\n",
    "# Listenin sahip olduğu aralığın dışına çıktığımız için program hata verecektir."
   ]
  },
  {
   "cell_type": "code",
   "execution_count": 20,
   "metadata": {},
   "outputs": [
    {
     "data": {
      "text/plain": [
       "[21, 'İstanbul Aydın Üniversitesi', 2018]"
      ]
     },
     "execution_count": 20,
     "metadata": {},
     "output_type": "execute_result"
    }
   ],
   "source": [
    "# 2. indexden sonraki değerleri al diyoruz\n",
    "liste[2:]"
   ]
  },
  {
   "cell_type": "code",
   "execution_count": 22,
   "metadata": {},
   "outputs": [
    {
     "data": {
      "text/plain": [
       "['Rahman', 'Çaylak']"
      ]
     },
     "execution_count": 22,
     "metadata": {},
     "output_type": "execute_result"
    }
   ],
   "source": [
    "# sadece 0 ve 1 indexi al ama ikinciyi dahil etme.\n",
    "liste[:2]"
   ]
  },
  {
   "cell_type": "code",
   "execution_count": 23,
   "metadata": {},
   "outputs": [
    {
     "data": {
      "text/plain": [
       "['Rahman', 21, 2018]"
      ]
     },
     "execution_count": 23,
     "metadata": {},
     "output_type": "execute_result"
    }
   ],
   "source": [
    "# O zaman dahil edelim değil mi?\n",
    "liste[::2]"
   ]
  },
  {
   "cell_type": "code",
   "execution_count": 24,
   "metadata": {},
   "outputs": [
    {
     "data": {
      "text/plain": [
       "[2018, 'İstanbul Aydın Üniversitesi', 21, 'Çaylak', 'Rahman']"
      ]
     },
     "execution_count": 24,
     "metadata": {},
     "output_type": "execute_result"
    }
   ],
   "source": [
    "# Listeyi ters çevirmenin çok güzel bir yöntemi var.\n",
    "liste[::-1]"
   ]
  },
  {
   "cell_type": "markdown",
   "metadata": {},
   "source": [
    "### Listelerde İşlemler"
   ]
  },
  {
   "cell_type": "code",
   "execution_count": 45,
   "metadata": {},
   "outputs": [
    {
     "data": {
      "text/plain": [
       "['Armut', 12, 34, 'İstanbul', 'Kiraz', 15, 23, 'Ankara']"
      ]
     },
     "execution_count": 45,
     "metadata": {},
     "output_type": "execute_result"
    }
   ],
   "source": [
    "liste1 = [\"Armut\",12,34,\"İstanbul\"]\n",
    "liste2 = [\"Kiraz\",15,23,\"Ankara\"]\n",
    "# Toplam işaretini eklediğimizde iki lisiteyi de bir araya getirdiğini görüyoruz.\n",
    "liste1 + liste2"
   ]
  },
  {
   "cell_type": "code",
   "execution_count": 29,
   "metadata": {},
   "outputs": [
    {
     "data": {
      "text/plain": [
       "['Kiraz', 15, 23, 'Ankara', 'Armut', 12, 34, 'İstanbul']"
      ]
     },
     "execution_count": 29,
     "metadata": {},
     "output_type": "execute_result"
    }
   ],
   "source": [
    "# Pekii, neden liste1 elemanları ilk sıradaydı?\n",
    "liste2 + liste1\n",
    "# Sanırım artık cevabını öğrendik. İlk sırada hangisi varsa onun elemanları ilk başta ekleniyor."
   ]
  },
  {
   "cell_type": "code",
   "execution_count": 35,
   "metadata": {},
   "outputs": [
    {
     "ename": "TypeError",
     "evalue": "unsupported operand type(s) for -: 'list' and 'list'",
     "output_type": "error",
     "traceback": [
      "\u001b[1;31m---------------------------------------------------------------------------\u001b[0m",
      "\u001b[1;31mTypeError\u001b[0m                                 Traceback (most recent call last)",
      "\u001b[1;32m<ipython-input-35-7f0a977f0e73>\u001b[0m in \u001b[0;36m<module>\u001b[1;34m\u001b[0m\n\u001b[0;32m      1\u001b[0m \u001b[1;31m# Çıkarma yaparsak veya diğer işlemleri yaparsak ne olur?\u001b[0m\u001b[1;33m\u001b[0m\u001b[1;33m\u001b[0m\u001b[1;33m\u001b[0m\u001b[0m\n\u001b[1;32m----> 2\u001b[1;33m \u001b[0mliste1\u001b[0m \u001b[1;33m-\u001b[0m \u001b[0mliste2\u001b[0m\u001b[1;33m\u001b[0m\u001b[1;33m\u001b[0m\u001b[0m\n\u001b[0m\u001b[0;32m      3\u001b[0m \u001b[1;31m# Hata alacaksınız. :) Toplama işareti istisnalardan bir tanesidir. Daha önce bundan bahsetmiştik.\u001b[0m\u001b[1;33m\u001b[0m\u001b[1;33m\u001b[0m\u001b[1;33m\u001b[0m\u001b[0m\n",
      "\u001b[1;31mTypeError\u001b[0m: unsupported operand type(s) for -: 'list' and 'list'"
     ]
    }
   ],
   "source": [
    "# Çıkarma yaparsak veya diğer işlemleri yaparsak ne olur?\n",
    "liste1 - liste2\n",
    "# Hata alacaksınız. :) Toplama işareti istisnalardan bir tanesidir. Daha önce bundan bahsetmiştik."
   ]
  },
  {
   "cell_type": "code",
   "execution_count": 46,
   "metadata": {},
   "outputs": [
    {
     "data": {
      "text/plain": [
       "['Armut', 12, 34, 'İstanbul', 'Armut', 12, 34, 'İstanbul']"
      ]
     },
     "execution_count": 46,
     "metadata": {},
     "output_type": "execute_result"
    }
   ],
   "source": [
    "# Liste elemanlarını birden fazla kez liste içine atayabiliriz.\n",
    "liste1 = liste1 * 2\n",
    "liste1"
   ]
  },
  {
   "cell_type": "code",
   "execution_count": 53,
   "metadata": {},
   "outputs": [
    {
     "data": {
      "text/plain": [
       "['Armut', 12, 34, 'İstanbul', 'Armut', 12, 34, 'İstanbul']"
      ]
     },
     "execution_count": 53,
     "metadata": {},
     "output_type": "execute_result"
    }
   ],
   "source": [
    "# Ama neden öyle yaptık? liste1 * 2 deseydik olmaz mıydı? - Olurdu ama kalıcı olmazdı.\n",
    "# ilk liste1'i çarpın daha sonra liste1'i yorum satırından çıkarıp öyle çalıştırın ve sonucu görün.\n",
    "liste1 * 2\n",
    "# liste1 "
   ]
  },
  {
   "cell_type": "code",
   "execution_count": 55,
   "metadata": {},
   "outputs": [
    {
     "data": {
      "text/plain": [
       "[45, 12, 34, 'İstanbul', 'Armut', 12, 34, 'İstanbul']"
      ]
     },
     "execution_count": 55,
     "metadata": {},
     "output_type": "execute_result"
    }
   ],
   "source": [
    "# liste1 = ['Armut', 12, 34, 'İstanbul', 'Armut', 12, 34, 'İstanbul']\n",
    "# Listelerde indexleri bilmek ne işimize yarar yazdırmaktan başka?\n",
    "liste1[0] = 45\n",
    "# Burada dedik ki, 0'ıncı indexin değerini sağdaki değere eşitle. Böylece 0'ıncı indexte Armut yerine artık 45 değeri olacak.\n",
    "liste1"
   ]
  },
  {
   "cell_type": "code",
   "execution_count": 56,
   "metadata": {},
   "outputs": [
    {
     "data": {
      "text/plain": [
       "[12, 35, 34, 'İstanbul', 'Armut', 12, 34, 'İstanbul']"
      ]
     },
     "execution_count": 56,
     "metadata": {},
     "output_type": "execute_result"
    }
   ],
   "source": [
    "# Farklı yöntemi var mı listedeki elemanları değiştirmenin?\n",
    "liste1[:2] = [12,35]\n",
    "# 0 ve 1 indexin sahip olduğu değerler yerine, 12 ve 35 yaz dedik.\n",
    "liste1"
   ]
  },
  {
   "cell_type": "code",
   "execution_count": 61,
   "metadata": {},
   "outputs": [
    {
     "ename": "ValueError",
     "evalue": "attempt to assign sequence of size 2 to extended slice of size 4",
     "output_type": "error",
     "traceback": [
      "\u001b[1;31m---------------------------------------------------------------------------\u001b[0m",
      "\u001b[1;31mValueError\u001b[0m                                Traceback (most recent call last)",
      "\u001b[1;32m<ipython-input-61-bbd2f583762c>\u001b[0m in \u001b[0;36m<module>\u001b[1;34m\u001b[0m\n\u001b[0;32m      1\u001b[0m \u001b[1;31m# Ya dahil etseydik ama 3. bir değerimiz olmasaydı program nasıl bir çıktı verirdi?\u001b[0m\u001b[1;33m\u001b[0m\u001b[1;33m\u001b[0m\u001b[1;33m\u001b[0m\u001b[0m\n\u001b[1;32m----> 2\u001b[1;33m \u001b[0mliste1\u001b[0m\u001b[1;33m[\u001b[0m\u001b[1;33m:\u001b[0m\u001b[1;33m:\u001b[0m\u001b[1;36m2\u001b[0m\u001b[1;33m]\u001b[0m \u001b[1;33m=\u001b[0m \u001b[1;33m[\u001b[0m\u001b[1;36m75\u001b[0m\u001b[1;33m,\u001b[0m\u001b[1;36m65\u001b[0m\u001b[1;33m]\u001b[0m\u001b[1;33m\u001b[0m\u001b[1;33m\u001b[0m\u001b[0m\n\u001b[0m\u001b[0;32m      3\u001b[0m \u001b[1;31m# 3. bir değerimiz olmadığı için hatayı aldık.\u001b[0m\u001b[1;33m\u001b[0m\u001b[1;33m\u001b[0m\u001b[1;33m\u001b[0m\u001b[0m\n",
      "\u001b[1;31mValueError\u001b[0m: attempt to assign sequence of size 2 to extended slice of size 4"
     ]
    }
   ],
   "source": [
    "# Ya dahil etseydik ama 3. bir değerimiz olmasaydı program nasıl bir çıktı verirdi?\n",
    "liste1[::2] = [75,65]\n",
    "# 3. bir değerimiz olmadığı için hatayı aldık."
   ]
  },
  {
   "cell_type": "markdown",
   "metadata": {},
   "source": [
    "### Append() Metodu\n",
    "* Listeye eleman eklemek için append() metodu kullanılır."
   ]
  },
  {
   "cell_type": "code",
   "execution_count": 65,
   "metadata": {},
   "outputs": [
    {
     "data": {
      "text/plain": [
       "[43, 23, 'jupyter', 'Mars']"
      ]
     },
     "execution_count": 65,
     "metadata": {},
     "output_type": "execute_result"
    }
   ],
   "source": [
    "# Kafamız karışmaması için yeni bir liste oluşturuyoruz.\n",
    "liste3 = [43,23,\"jupyter\"]\n",
    "# Daha sonra append metodu ile de listemize eleman ekliyoruz.\n",
    "liste3.append(\"Mars\")\n",
    "liste3"
   ]
  },
  {
   "cell_type": "markdown",
   "metadata": {},
   "source": [
    "### Pop() Metodu\n",
    "* Listeden eleman silmek için kullanılır."
   ]
  },
  {
   "cell_type": "code",
   "execution_count": 68,
   "metadata": {},
   "outputs": [
    {
     "data": {
      "text/plain": [
       "'Mars'"
      ]
     },
     "execution_count": 68,
     "metadata": {},
     "output_type": "execute_result"
    }
   ],
   "source": [
    "# pop içine herhangi bir index yazmazsak eğer, listenin son elemanını siler.\n",
    "liste3.pop()"
   ]
  },
  {
   "cell_type": "code",
   "execution_count": 69,
   "metadata": {},
   "outputs": [
    {
     "data": {
      "text/plain": [
       "[43, 23, 'jupyter']"
      ]
     },
     "execution_count": 69,
     "metadata": {},
     "output_type": "execute_result"
    }
   ],
   "source": [
    "liste3"
   ]
  },
  {
   "cell_type": "code",
   "execution_count": 70,
   "metadata": {},
   "outputs": [
    {
     "data": {
      "text/plain": [
       "43"
      ]
     },
     "execution_count": 70,
     "metadata": {},
     "output_type": "execute_result"
    }
   ],
   "source": [
    "# 0'ıncı index yani 43 silmek istiyoruz, ne yapmalıyız sizce?\n",
    "liste3.pop(0)"
   ]
  },
  {
   "cell_type": "code",
   "execution_count": 71,
   "metadata": {},
   "outputs": [
    {
     "data": {
      "text/plain": [
       "[23, 'jupyter']"
      ]
     },
     "execution_count": 71,
     "metadata": {},
     "output_type": "execute_result"
    }
   ],
   "source": [
    "liste3"
   ]
  },
  {
   "cell_type": "markdown",
   "metadata": {},
   "source": [
    "### Sort() Metodu\n",
    "* Listede sırasız bir şekilde sayıların olduğunu düşünelim. Peki biz bunları küçükten büyüğe göre dizmek istediğimizde ne yapmalıyız? - Konu başlığımızdaki olduğu gibi Sort() metodunu kullanacağız.\n",
    "* NOT: Sadece sayılarda değil, karakter dizelerinde de kullanabiliriz. Alfabetik sırasına göre elemanları dizecektir."
   ]
  },
  {
   "cell_type": "code",
   "execution_count": 110,
   "metadata": {},
   "outputs": [
    {
     "data": {
      "text/plain": [
       "[-6, 1, 23, 56, 65, 89, 200, 3234]"
      ]
     },
     "execution_count": 110,
     "metadata": {},
     "output_type": "execute_result"
    }
   ],
   "source": [
    "# Yeni bir liste oluşturuyoruz.\n",
    "liste4 = [23,56,-6,1,200,3234,65,89]\n",
    "# Bu listemizi sıraya dizmek için sort metodunu kullanıyoruz.\n",
    "liste4.sort()\n",
    "liste4"
   ]
  },
  {
   "cell_type": "code",
   "execution_count": 79,
   "metadata": {},
   "outputs": [
    {
     "data": {
      "text/plain": [
       "[3234, 200, 89, 65, 56, 23, 1, -6]"
      ]
     },
     "execution_count": 79,
     "metadata": {},
     "output_type": "execute_result"
    }
   ],
   "source": [
    "# Sort metodunun içine reverse True dediğimizde bu sefer büyükten küçüğe sıralıyor.\n",
    "liste4.sort(reverse = True)\n",
    "liste4"
   ]
  },
  {
   "cell_type": "code",
   "execution_count": 76,
   "metadata": {},
   "outputs": [
    {
     "ename": "TypeError",
     "evalue": "'<' not supported between instances of 'str' and 'int'",
     "output_type": "error",
     "traceback": [
      "\u001b[1;31m---------------------------------------------------------------------------\u001b[0m",
      "\u001b[1;31mTypeError\u001b[0m                                 Traceback (most recent call last)",
      "\u001b[1;32m<ipython-input-76-0e014fe8dc60>\u001b[0m in \u001b[0;36m<module>\u001b[1;34m\u001b[0m\n\u001b[0;32m      1\u001b[0m \u001b[1;31m# Listede bir string tipinden ifade olursa, o zaman Sort() metodu ne yapacak?\u001b[0m\u001b[1;33m\u001b[0m\u001b[1;33m\u001b[0m\u001b[1;33m\u001b[0m\u001b[0m\n\u001b[0;32m      2\u001b[0m \u001b[0mliste5\u001b[0m \u001b[1;33m=\u001b[0m \u001b[1;33m[\u001b[0m\u001b[1;36m34\u001b[0m\u001b[1;33m,\u001b[0m\u001b[1;36m67\u001b[0m\u001b[1;33m,\u001b[0m\u001b[1;36m890\u001b[0m\u001b[1;33m,\u001b[0m\u001b[1;36m5\u001b[0m\u001b[1;33m,\u001b[0m\u001b[1;34m\"Sort\"\u001b[0m\u001b[1;33m]\u001b[0m\u001b[1;33m\u001b[0m\u001b[1;33m\u001b[0m\u001b[0m\n\u001b[1;32m----> 3\u001b[1;33m \u001b[0mliste5\u001b[0m\u001b[1;33m.\u001b[0m\u001b[0msort\u001b[0m\u001b[1;33m(\u001b[0m\u001b[1;33m)\u001b[0m\u001b[1;33m\u001b[0m\u001b[1;33m\u001b[0m\u001b[0m\n\u001b[0m\u001b[0;32m      4\u001b[0m \u001b[1;31m# Hata verecek. :)\u001b[0m\u001b[1;33m\u001b[0m\u001b[1;33m\u001b[0m\u001b[1;33m\u001b[0m\u001b[0m\n",
      "\u001b[1;31mTypeError\u001b[0m: '<' not supported between instances of 'str' and 'int'"
     ]
    }
   ],
   "source": [
    "# Listede sayıların içinde bir string tipinden ifade olursa, o zaman Sort() metodu ne yapacak?\n",
    "liste5 = [34,67,890,5,\"Sort\"]\n",
    "liste5.sort()\n",
    "# Hata verecek. :)"
   ]
  },
  {
   "cell_type": "code",
   "execution_count": 81,
   "metadata": {},
   "outputs": [
    {
     "data": {
      "text/plain": [
       "['Chrome', 'Database', 'Jupyter', 'Python']"
      ]
     },
     "execution_count": 81,
     "metadata": {},
     "output_type": "execute_result"
    }
   ],
   "source": [
    "# Yeni bir liste oluşturuyoruz ve bu liste karakter dizelerinden oluşuyor.\n",
    "liste6 = [\"Jupyter\", \"Python\", \"Chrome\", \"Database\"]\n",
    "liste6.sort()\n",
    "liste6"
   ]
  },
  {
   "cell_type": "code",
   "execution_count": 107,
   "metadata": {},
   "outputs": [
    {
     "ename": "NameError",
     "evalue": "name 'p' is not defined",
     "output_type": "error",
     "traceback": [
      "\u001b[1;31m---------------------------------------------------------------------------\u001b[0m",
      "\u001b[1;31mNameError\u001b[0m                                 Traceback (most recent call last)",
      "\u001b[1;32m<ipython-input-107-380644512fde>\u001b[0m in \u001b[0;36m<module>\u001b[1;34m\u001b[0m\n\u001b[0;32m      2\u001b[0m \u001b[0mliste6\u001b[0m\u001b[1;33m.\u001b[0m\u001b[0msort\u001b[0m\u001b[1;33m(\u001b[0m\u001b[0mreverse\u001b[0m \u001b[1;33m=\u001b[0m \u001b[1;32mTrue\u001b[0m\u001b[1;33m)\u001b[0m\u001b[1;33m\u001b[0m\u001b[1;33m\u001b[0m\u001b[0m\n\u001b[0;32m      3\u001b[0m \u001b[0mliste6\u001b[0m\u001b[1;33m\u001b[0m\u001b[1;33m\u001b[0m\u001b[0m\n\u001b[1;32m----> 4\u001b[1;33m \u001b[0mliste6\u001b[0m\u001b[1;33m.\u001b[0m\u001b[0mcount\u001b[0m\u001b[1;33m(\u001b[0m\u001b[0mp\u001b[0m\u001b[1;33m)\u001b[0m\u001b[1;33m\u001b[0m\u001b[1;33m\u001b[0m\u001b[0m\n\u001b[0m",
      "\u001b[1;31mNameError\u001b[0m: name 'p' is not defined"
     ]
    }
   ],
   "source": [
    "# Sayılarda olduğu gibi reverse kullandığımızda eleman sırasında benzer sonucu verecek midir sizce?\n",
    "liste6.sort(reverse = True)\n",
    "liste6"
   ]
  },
  {
   "cell_type": "markdown",
   "metadata": {},
   "source": [
    "### İç İçe Listeler\n",
    "* Düzenlenecek..."
   ]
  },
  {
   "cell_type": "code",
   "execution_count": 88,
   "metadata": {},
   "outputs": [
    {
     "data": {
      "text/plain": [
       "[[54, 34], [45, 54], ['Bir', 'İki']]"
      ]
     },
     "execution_count": 88,
     "metadata": {},
     "output_type": "execute_result"
    }
   ],
   "source": [
    "newList = [[54,34],[45,54],[\"Bir\",\"İki\"]]\n",
    "newList"
   ]
  },
  {
   "cell_type": "code",
   "execution_count": 89,
   "metadata": {},
   "outputs": [
    {
     "data": {
      "text/plain": [
       "[54, 34]"
      ]
     },
     "execution_count": 89,
     "metadata": {},
     "output_type": "execute_result"
    }
   ],
   "source": [
    "newList[0]"
   ]
  },
  {
   "cell_type": "code",
   "execution_count": 91,
   "metadata": {},
   "outputs": [
    {
     "data": {
      "text/plain": [
       "45"
      ]
     },
     "execution_count": 91,
     "metadata": {},
     "output_type": "execute_result"
    }
   ],
   "source": [
    "newList[1][0]"
   ]
  },
  {
   "cell_type": "markdown",
   "metadata": {},
   "source": [
    "## Demetler (Tuples)\n",
    "* Listelere oldukça benzerdir ama büyük bir farkı vardır. Demetler, listelere göre değerleri değiştirilemez."
   ]
  },
  {
   "cell_type": "code",
   "execution_count": 96,
   "metadata": {},
   "outputs": [
    {
     "data": {
      "text/plain": [
       "(23, 34, 45, 'İstanbul')"
      ]
     },
     "execution_count": 96,
     "metadata": {},
     "output_type": "execute_result"
    }
   ],
   "source": [
    "# Listeler köşeli parantez ile oluşturuyorduk. Demetlerde ise parantez kullanarak oluşturuyoruz.\n",
    "demet = (23,34,45,\"İstanbul\")\n",
    "demet"
   ]
  },
  {
   "cell_type": "code",
   "execution_count": 104,
   "metadata": {},
   "outputs": [
    {
     "data": {
      "text/plain": [
       "tuple"
      ]
     },
     "execution_count": 104,
     "metadata": {},
     "output_type": "execute_result"
    }
   ],
   "source": [
    "# Demetlerin tipini kontrol edelim.\n",
    "type(demet)"
   ]
  },
  {
   "cell_type": "code",
   "execution_count": 100,
   "metadata": {},
   "outputs": [
    {
     "data": {
      "text/plain": [
       "23"
      ]
     },
     "execution_count": 100,
     "metadata": {},
     "output_type": "execute_result"
    }
   ],
   "source": [
    "# Demetlerdeki değerlere listelere benzer şekilde ulaşabiliyoruz.\n",
    "demet[0]"
   ]
  },
  {
   "cell_type": "code",
   "execution_count": 101,
   "metadata": {},
   "outputs": [
    {
     "ename": "TypeError",
     "evalue": "'tuple' object does not support item assignment",
     "output_type": "error",
     "traceback": [
      "\u001b[1;31m---------------------------------------------------------------------------\u001b[0m",
      "\u001b[1;31mTypeError\u001b[0m                                 Traceback (most recent call last)",
      "\u001b[1;32m<ipython-input-101-e59b2fed076c>\u001b[0m in \u001b[0;36m<module>\u001b[1;34m\u001b[0m\n\u001b[0;32m      1\u001b[0m \u001b[1;31m# Değerini değiştirmeye çalıştığımızda hata verecektir.\u001b[0m\u001b[1;33m\u001b[0m\u001b[1;33m\u001b[0m\u001b[1;33m\u001b[0m\u001b[0m\n\u001b[1;32m----> 2\u001b[1;33m \u001b[0mdemet\u001b[0m\u001b[1;33m[\u001b[0m\u001b[1;36m0\u001b[0m\u001b[1;33m]\u001b[0m \u001b[1;33m=\u001b[0m \u001b[1;36m67\u001b[0m\u001b[1;33m\u001b[0m\u001b[1;33m\u001b[0m\u001b[0m\n\u001b[0m",
      "\u001b[1;31mTypeError\u001b[0m: 'tuple' object does not support item assignment"
     ]
    }
   ],
   "source": [
    "# Değerini değiştirmeye çalıştığımızda hata verecektir.\n",
    "demet[0] = 67"
   ]
  },
  {
   "cell_type": "code",
   "execution_count": 102,
   "metadata": {},
   "outputs": [
    {
     "ename": "IndexError",
     "evalue": "tuple index out of range",
     "output_type": "error",
     "traceback": [
      "\u001b[1;31m---------------------------------------------------------------------------\u001b[0m",
      "\u001b[1;31mIndexError\u001b[0m                                Traceback (most recent call last)",
      "\u001b[1;32m<ipython-input-102-608a735e079c>\u001b[0m in \u001b[0;36m<module>\u001b[1;34m\u001b[0m\n\u001b[0;32m      1\u001b[0m \u001b[1;31m# Aralığın dışına çıkarsak yine hata verecektir.\u001b[0m\u001b[1;33m\u001b[0m\u001b[1;33m\u001b[0m\u001b[1;33m\u001b[0m\u001b[0m\n\u001b[1;32m----> 2\u001b[1;33m \u001b[0mdemet\u001b[0m\u001b[1;33m[\u001b[0m\u001b[1;36m15\u001b[0m\u001b[1;33m]\u001b[0m\u001b[1;33m\u001b[0m\u001b[1;33m\u001b[0m\u001b[0m\n\u001b[0m",
      "\u001b[1;31mIndexError\u001b[0m: tuple index out of range"
     ]
    }
   ],
   "source": [
    "# Aralığın dışına çıkarsak yine hata verecektir.\n",
    "demet[15]"
   ]
  },
  {
   "cell_type": "code",
   "execution_count": 106,
   "metadata": {},
   "outputs": [
    {
     "ename": "NameError",
     "evalue": "name 'tuples' is not defined",
     "output_type": "error",
     "traceback": [
      "\u001b[1;31m---------------------------------------------------------------------------\u001b[0m",
      "\u001b[1;31mNameError\u001b[0m                                 Traceback (most recent call last)",
      "\u001b[1;32m<ipython-input-106-86dd47bd7872>\u001b[0m in \u001b[0;36m<module>\u001b[1;34m\u001b[0m\n\u001b[0;32m      1\u001b[0m \u001b[1;31m# Bir string tipinde değerimiz olsun, bunu demetlere çevirelim.\u001b[0m\u001b[1;33m\u001b[0m\u001b[1;33m\u001b[0m\u001b[1;33m\u001b[0m\u001b[0m\n\u001b[0;32m      2\u001b[0m \u001b[0mdemetString\u001b[0m \u001b[1;33m=\u001b[0m \u001b[1;34m\"Ankara\"\u001b[0m\u001b[1;33m\u001b[0m\u001b[1;33m\u001b[0m\u001b[0m\n\u001b[1;32m----> 3\u001b[1;33m \u001b[0mtuples\u001b[0m\u001b[1;33m(\u001b[0m\u001b[0mankara\u001b[0m\u001b[1;33m)\u001b[0m\u001b[1;33m\u001b[0m\u001b[1;33m\u001b[0m\u001b[0m\n\u001b[0m",
      "\u001b[1;31mNameError\u001b[0m: name 'tuples' is not defined"
     ]
    }
   ],
   "source": [
    "# Bir string tipinde değerimiz olsun, bunu demetlere çevirelim.\n",
    "demetString = \"Ankara\"\n",
    "tuples(ankara)"
   ]
  },
  {
   "cell_type": "markdown",
   "metadata": {},
   "source": [
    "### Count() Metodu\n",
    "* Demetin içinde Count() yardımıyla değerlerin kaç defa tekrar ettiğini gösterir."
   ]
  },
  {
   "cell_type": "code",
   "execution_count": 115,
   "metadata": {},
   "outputs": [
    {
     "data": {
      "text/plain": [
       "3"
      ]
     },
     "execution_count": 115,
     "metadata": {},
     "output_type": "execute_result"
    }
   ],
   "source": [
    "demetCount = (4,2,4,6,2,4,6,8,9,0,145,2345,44)\n",
    "# Oluşturduğumuz demetin içinde kaç tane 4 var diye kontrol ediyoruz.\n",
    "# NOT: İçinde 4 olması bir şey ifade etmiyor. (145, 44...)\n",
    "demetCount.count(4)"
   ]
  },
  {
   "cell_type": "markdown",
   "metadata": {},
   "source": [
    "### Index() Metodu\n",
    "* Bu metod sayesinde değerin hangi indexte olduğunu kolayca bulabiliriz."
   ]
  },
  {
   "cell_type": "code",
   "execution_count": 124,
   "metadata": {},
   "outputs": [
    {
     "data": {
      "text/plain": [
       "1"
      ]
     },
     "execution_count": 124,
     "metadata": {},
     "output_type": "execute_result"
    }
   ],
   "source": [
    "demetIndex = (\"Rahman\", \"Çaylak\", \"İstanbul\", \"Alibeyköy\")\n",
    "# Demetin içinde Çaylak var mı diye metoda kontrol ettiriyoruz ve onun indexini geri döndürüyor.\n",
    "# NOT: Çaylak ve çaylak iki farklı değerdir.\n",
    "demetIndex.index(\"Çaylak\")"
   ]
  },
  {
   "cell_type": "code",
   "execution_count": 123,
   "metadata": {},
   "outputs": [
    {
     "ename": "ValueError",
     "evalue": "tuple.index(x): x not in tuple",
     "output_type": "error",
     "traceback": [
      "\u001b[1;31m---------------------------------------------------------------------------\u001b[0m",
      "\u001b[1;31mValueError\u001b[0m                                Traceback (most recent call last)",
      "\u001b[1;32m<ipython-input-123-27763d36a805>\u001b[0m in \u001b[0;36m<module>\u001b[1;34m\u001b[0m\n\u001b[0;32m      1\u001b[0m \u001b[1;31m# Eğer öyle bir değer yoksa program nasıl bir sonuç verecek bir kontrol edelim.\u001b[0m\u001b[1;33m\u001b[0m\u001b[1;33m\u001b[0m\u001b[1;33m\u001b[0m\u001b[0m\n\u001b[1;32m----> 2\u001b[1;33m \u001b[0mdemetIndex\u001b[0m\u001b[1;33m.\u001b[0m\u001b[0mindex\u001b[0m\u001b[1;33m(\u001b[0m\u001b[1;34m\"Çayla\"\u001b[0m\u001b[1;33m)\u001b[0m\u001b[1;33m\u001b[0m\u001b[1;33m\u001b[0m\u001b[0m\n\u001b[0m",
      "\u001b[1;31mValueError\u001b[0m: tuple.index(x): x not in tuple"
     ]
    }
   ],
   "source": [
    "# Eğer öyle bir değer yoksa program nasıl bir sonuç verecek bir kontrol edelim.\n",
    "demetIndex.index(\"Çayla\")"
   ]
  },
  {
   "cell_type": "code",
   "execution_count": 128,
   "metadata": {},
   "outputs": [
    {
     "data": {
      "text/plain": [
       "0"
      ]
     },
     "execution_count": 128,
     "metadata": {},
     "output_type": "execute_result"
    }
   ],
   "source": [
    "# Demetin içinde birden fazla benzer değer varsa, hangisinin indexini geri dönürecek?\n",
    "demetIndex2 = (1,6,3,1,4,1,6,9,0,234,76,23)\n",
    "demetIndex2.index(1)"
   ]
  },
  {
   "cell_type": "markdown",
   "metadata": {},
   "source": [
    "## Sözlük\n",
    "* Güncellenecek..."
   ]
  },
  {
   "cell_type": "markdown",
   "metadata": {},
   "source": [
    "## Kullanıcıdan Değer Alma - Input() Fonksiyonu\n",
    "* Programda genelde kendimiz değerleri yazdık. Artık bundan sonra dışarıdan istediğimiz değeri input() fonksiyonu sayesinde alabiliriz.\n",
    "* Input fonksiyonundan aldığınız her değer string ifade olarak döner, bunun çözümleri için de veri tipi dönüşümlerini hatırlamanız gerekecek."
   ]
  },
  {
   "cell_type": "code",
   "execution_count": 1,
   "metadata": {},
   "outputs": [
    {
     "name": "stdout",
     "output_type": "stream",
     "text": [
      "Rahman\n"
     ]
    },
    {
     "data": {
      "text/plain": [
       "'Rahman'"
      ]
     },
     "execution_count": 1,
     "metadata": {},
     "output_type": "execute_result"
    }
   ],
   "source": [
    "# Kullanıcıdan bu şekilde bir değer alabiliriz.\n",
    "input()"
   ]
  },
  {
   "cell_type": "code",
   "execution_count": 3,
   "metadata": {},
   "outputs": [
    {
     "name": "stdout",
     "output_type": "stream",
     "text": [
      "Bir sayı giriniz: 24\n"
     ]
    },
    {
     "data": {
      "text/plain": [
       "'24'"
      ]
     },
     "execution_count": 3,
     "metadata": {},
     "output_type": "execute_result"
    }
   ],
   "source": [
    "# Inputun içine karakter dizeleri girerek kullanıcıyı bilgilendirebiliriz.\n",
    "input(\"Bir sayı giriniz: \")"
   ]
  },
  {
   "cell_type": "code",
   "execution_count": 4,
   "metadata": {},
   "outputs": [
    {
     "name": "stdout",
     "output_type": "stream",
     "text": [
      "Sayı giriniz: 25\n"
     ]
    }
   ],
   "source": [
    "# Kullanıcıdan değerler aldık ama bir değişkene atamadığımız için hep boşa gitti, şimdi bir değişkene atayalım.\n",
    "sayi = input(\"Sayı giriniz: \")"
   ]
  },
  {
   "cell_type": "code",
   "execution_count": 5,
   "metadata": {},
   "outputs": [
    {
     "name": "stdout",
     "output_type": "stream",
     "text": [
      "Bir sayı giriniz: 25\n"
     ]
    },
    {
     "data": {
      "text/plain": [
       "str"
      ]
     },
     "execution_count": 5,
     "metadata": {},
     "output_type": "execute_result"
    }
   ],
   "source": [
    "# Input fonksiyonundan aldığımız her değer öncelikle string ifade olarak geri döner.\n",
    "sayi = input(\"Bir sayı giriniz: \")\n",
    "type(sayi)"
   ]
  },
  {
   "cell_type": "code",
   "execution_count": 9,
   "metadata": {},
   "outputs": [
    {
     "name": "stdout",
     "output_type": "stream",
     "text": [
      "Bir sayı giriniz: 25\n"
     ]
    },
    {
     "data": {
      "text/plain": [
       "int"
      ]
     },
     "execution_count": 9,
     "metadata": {},
     "output_type": "execute_result"
    }
   ],
   "source": [
    "# Bu durumda kullanıcıdan aldığınız değerlerle 4 işlem yapamayacaksınız. Çözümü nedir?\n",
    "# Python notlarının ilk başlarında veri tipi dönüşümlerini görmüştük, burada da aynı şekilde kullanabiliriz.\n",
    "sayi = int(input(\"Bir sayı giriniz: \"))\n",
    "type(sayi)"
   ]
  },
  {
   "cell_type": "code",
   "execution_count": 10,
   "metadata": {},
   "outputs": [
    {
     "name": "stdout",
     "output_type": "stream",
     "text": [
      "Birinci sayıyı giriniz: 25\n",
      "İkinci sayıyı giriniz: 34\n",
      "Üçüncü sayıyı giriniz: 45\n",
      "Toplam:  104\n"
     ]
    }
   ],
   "source": [
    "# Kullanıcıdan aldığımız 3 sayı ile bir toplama işlemi yapalım.\n",
    "sayi1 = int(input(\"Birinci sayıyı giriniz: \"))\n",
    "sayi2 = int(input(\"İkinci sayıyı giriniz: \"))\n",
    "sayi3 = int(input(\"Üçüncü sayıyı giriniz: \"))\n",
    "print(\"Toplam: \",sayi1+sayi2+sayi3)"
   ]
  },
  {
   "cell_type": "code",
   "execution_count": 13,
   "metadata": {},
   "outputs": [
    {
     "name": "stdout",
     "output_type": "stream",
     "text": [
      "Bir değer giriniz: \n",
      "Girdiğiniz değer:  \n"
     ]
    }
   ],
   "source": [
    "# Eğer inputa hiçbir değer girmeden devam edersek ne olur, kontrol edelim.\n",
    "a = input(\"Bir değer giriniz: \")\n",
    "print(\"Girdiğiniz değer: \",a)\n",
    "# String ifadede hiçbir şey girmezseniz onu bir boşluk olarak kabul eder."
   ]
  },
  {
   "cell_type": "code",
   "execution_count": 15,
   "metadata": {},
   "outputs": [
    {
     "name": "stdout",
     "output_type": "stream",
     "text": [
      "Bir sayı giriniz: \n"
     ]
    },
    {
     "ename": "ValueError",
     "evalue": "invalid literal for int() with base 10: ''",
     "output_type": "error",
     "traceback": [
      "\u001b[1;31m---------------------------------------------------------------------------\u001b[0m",
      "\u001b[1;31mValueError\u001b[0m                                Traceback (most recent call last)",
      "\u001b[1;32m<ipython-input-15-ccd41d35c4c8>\u001b[0m in \u001b[0;36m<module>\u001b[1;34m\u001b[0m\n\u001b[0;32m      1\u001b[0m \u001b[1;31m# Şimdi bir tam sayıda deneyelim.\u001b[0m\u001b[1;33m\u001b[0m\u001b[1;33m\u001b[0m\u001b[1;33m\u001b[0m\u001b[0m\n\u001b[1;32m----> 2\u001b[1;33m \u001b[0mb\u001b[0m \u001b[1;33m=\u001b[0m \u001b[0mint\u001b[0m\u001b[1;33m(\u001b[0m\u001b[0minput\u001b[0m\u001b[1;33m(\u001b[0m\u001b[1;34m\"Bir sayı giriniz: \"\u001b[0m\u001b[1;33m)\u001b[0m\u001b[1;33m)\u001b[0m\u001b[1;33m\u001b[0m\u001b[1;33m\u001b[0m\u001b[0m\n\u001b[0m\u001b[0;32m      3\u001b[0m \u001b[0mprint\u001b[0m\u001b[1;33m(\u001b[0m\u001b[1;34m\"Girdiğiniz sayı: \"\u001b[0m\u001b[1;33m,\u001b[0m\u001b[0mb\u001b[0m\u001b[1;33m)\u001b[0m\u001b[1;33m\u001b[0m\u001b[1;33m\u001b[0m\u001b[0m\n\u001b[0;32m      4\u001b[0m \u001b[1;31m# Ve bir değer girmezseniz eğer programda hata ile karşılacaksınız.\u001b[0m\u001b[1;33m\u001b[0m\u001b[1;33m\u001b[0m\u001b[1;33m\u001b[0m\u001b[0m\n",
      "\u001b[1;31mValueError\u001b[0m: invalid literal for int() with base 10: ''"
     ]
    }
   ],
   "source": [
    "# Şimdi bir tam sayıda deneyelim.\n",
    "b = int(input(\"Bir sayı giriniz: \"))\n",
    "print(\"Girdiğiniz sayı: \",b)\n",
    "# Bir değer girmezseniz eğer programda hata ile karşılacaksınız."
   ]
  },
  {
   "cell_type": "code",
   "execution_count": 18,
   "metadata": {},
   "outputs": [
    {
     "name": "stdout",
     "output_type": "stream",
     "text": [
      "Bir sayı giriniz: deneme\n"
     ]
    },
    {
     "ename": "ValueError",
     "evalue": "invalid literal for int() with base 10: 'deneme'",
     "output_type": "error",
     "traceback": [
      "\u001b[1;31m---------------------------------------------------------------------------\u001b[0m",
      "\u001b[1;31mValueError\u001b[0m                                Traceback (most recent call last)",
      "\u001b[1;32m<ipython-input-18-a76ee9465b50>\u001b[0m in \u001b[0;36m<module>\u001b[1;34m\u001b[0m\n\u001b[0;32m      1\u001b[0m \u001b[1;31m# String tipi sayı da alıyordu karakter de, sayı alırken inputta ne gibi problemler olacak?\u001b[0m\u001b[1;33m\u001b[0m\u001b[1;33m\u001b[0m\u001b[1;33m\u001b[0m\u001b[0m\n\u001b[0;32m      2\u001b[0m \u001b[1;31m# input ekranına deneme gibi bir yazı yazıp devam edin.\u001b[0m\u001b[1;33m\u001b[0m\u001b[1;33m\u001b[0m\u001b[1;33m\u001b[0m\u001b[0m\n\u001b[1;32m----> 3\u001b[1;33m \u001b[0mgirilenSayi\u001b[0m \u001b[1;33m=\u001b[0m \u001b[0mint\u001b[0m\u001b[1;33m(\u001b[0m\u001b[0minput\u001b[0m\u001b[1;33m(\u001b[0m\u001b[1;34m\"Bir sayı giriniz: \"\u001b[0m\u001b[1;33m)\u001b[0m\u001b[1;33m)\u001b[0m\u001b[1;33m\u001b[0m\u001b[1;33m\u001b[0m\u001b[0m\n\u001b[0m\u001b[0;32m      4\u001b[0m \u001b[0mprint\u001b[0m\u001b[1;33m(\u001b[0m\u001b[1;34m\"Girdiğiniz sayı: \"\u001b[0m\u001b[1;33m,\u001b[0m\u001b[0mgirilenSayi\u001b[0m\u001b[1;33m)\u001b[0m\u001b[1;33m\u001b[0m\u001b[1;33m\u001b[0m\u001b[0m\n\u001b[0;32m      5\u001b[0m \u001b[1;31m# üstteki yaşadığımız benzer hatayı göreceğiz.\u001b[0m\u001b[1;33m\u001b[0m\u001b[1;33m\u001b[0m\u001b[1;33m\u001b[0m\u001b[0m\n",
      "\u001b[1;31mValueError\u001b[0m: invalid literal for int() with base 10: 'deneme'"
     ]
    }
   ],
   "source": [
    "# String tipi sayı da alıyordu karakter de, sayı alırken inputta ne gibi problemler olacak?\n",
    "# input ekranına deneme gibi bir yazı yazıp devam edin.\n",
    "girilenSayi = int(input(\"Bir sayı giriniz: \"))\n",
    "print(\"Girdiğiniz sayı: \",girilenSayi)\n",
    "# üstteki yaşadığımız benzer hatayı göreceğiz."
   ]
  }
 ],
 "metadata": {
  "kernelspec": {
   "display_name": "Python 3",
   "language": "python",
   "name": "python3"
  },
  "language_info": {
   "codemirror_mode": {
    "name": "ipython",
    "version": 3
   },
   "file_extension": ".py",
   "mimetype": "text/x-python",
   "name": "python",
   "nbconvert_exporter": "python",
   "pygments_lexer": "ipython3",
   "version": "3.8.5"
  }
 },
 "nbformat": 4,
 "nbformat_minor": 2
}
