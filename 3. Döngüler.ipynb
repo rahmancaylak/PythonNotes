{
 "cells": [
  {
   "cell_type": "markdown",
   "metadata": {},
   "source": [
    "# Python Notlar (Güncelleniyor)\n",
    "* Bir işlemi tekrar yaptırmak için döngüleri kullanırız. Mesela ekrana 10 defa isminizi ve soyisminizi yazdırmak istediğinizi düşünün, 10 kere print() fonksiyonunu kullanmak ne kadar doğru?"
   ]
  },
  {
   "cell_type": "markdown",
   "metadata": {},
   "source": [
    "### in Öperatörü\n",
    "* in, içinde anlamına geliyor. Örneklerle daha iyi anlayabiliriz."
   ]
  },
  {
   "cell_type": "code",
   "execution_count": 4,
   "metadata": {},
   "outputs": [
    {
     "data": {
      "text/plain": [
       "True"
      ]
     },
     "execution_count": 4,
     "metadata": {},
     "output_type": "execute_result"
    }
   ],
   "source": [
    "# Rahman karakter dizesinin içinde R harfi var mı diye kontrol ediyor.\n",
    "\"R\" in \"Rahman\""
   ]
  },
  {
   "cell_type": "code",
   "execution_count": 6,
   "metadata": {},
   "outputs": [
    {
     "data": {
      "text/plain": [
       "True"
      ]
     },
     "execution_count": 6,
     "metadata": {},
     "output_type": "execute_result"
    }
   ],
   "source": [
    "# Listenin içinde 5 var mı diye kontrol ediyor. Eğer varsa True diye ifade dönüyor, olmasaydı False dönecekti.\n",
    "5 in [1,2,3,4,5]"
   ]
  },
  {
   "cell_type": "markdown",
   "metadata": {},
   "source": [
    "## For Döngüsü\n",
    "    for eleman in veriler(Liste, Demet...):\n",
    "        print(eleman)"
   ]
  },
  {
   "cell_type": "code",
   "execution_count": 10,
   "metadata": {},
   "outputs": [
    {
     "name": "stdout",
     "output_type": "stream",
     "text": [
      "1\n",
      "2\n",
      "3\n",
      "4\n",
      "5\n"
     ]
    }
   ],
   "source": [
    "# Bir liste oluşturuyoruz.\n",
    "liste = [1,2,3,4,5]\n",
    "# Daha sonra listenin içindeki her elemanı listeElemanlarına eşitliyor.\n",
    "for listeElemanlari in liste:\n",
    "    print(listeElemanlari)\n",
    "# Listede kaç tane eleman varsa döngü o kadar devam eder, elemanların sonuna geldikten sonra döngüden çıkar."
   ]
  },
  {
   "cell_type": "code",
   "execution_count": 14,
   "metadata": {},
   "outputs": [
    {
     "name": "stdout",
     "output_type": "stream",
     "text": [
      "Toplam değer:  15\n"
     ]
    }
   ],
   "source": [
    "# Toplam değişkenini döngüden gelen her elemanı bu değişkene toplayıp eklemesi için oluşturuyoruz.\n",
    "toplam = 0\n",
    "for listeTopla in liste:\n",
    "    toplam += listeTopla\n",
    "    #toplam = toplam + listeTopla\n",
    "print(\"Toplam değer: \",toplam)"
   ]
  },
  {
   "cell_type": "code",
   "execution_count": 18,
   "metadata": {},
   "outputs": [
    {
     "name": "stdout",
     "output_type": "stream",
     "text": [
      "12\n",
      "56\n",
      "78\n",
      "66\n"
     ]
    }
   ],
   "source": [
    "# Listedeki çift sayıları ekrana bastıran basit programı yapalım.\n",
    "newList = [45,23,12,56,78,21,66,73]\n",
    "for eleman in newList:\n",
    "    if(eleman % 2 == 0):\n",
    "        print(eleman)\n",
    "# for döngüsünden bütün elemanları tek tek geziyoruz. If ile elamanı 2'ye bölüyoruz ve kalan 0 ise değerleri ekrana yazdırıyoruz."
   ]
  },
  {
   "cell_type": "code",
   "execution_count": 20,
   "metadata": {},
   "outputs": [
    {
     "name": "stdout",
     "output_type": "stream",
     "text": [
      "R\n",
      "a\n",
      "h\n",
      "m\n",
      "a\n",
      "n\n"
     ]
    }
   ],
   "source": [
    "# Karakter dizesini tek tek gezip ekrana yazdırıyor.\n",
    "isim = \"Rahman\"\n",
    "for eleman in isim:\n",
    "    print(eleman)"
   ]
  },
  {
   "cell_type": "code",
   "execution_count": 23,
   "metadata": {},
   "outputs": [
    {
     "name": "stdout",
     "output_type": "stream",
     "text": [
      "1\n",
      "2\n",
      "3\n",
      "7\n",
      "9\n",
      "14\n",
      "22\n"
     ]
    }
   ],
   "source": [
    "# Listelerde olduğu gibi demetleri de döngülerde kullanabiliyoruz.\n",
    "demet = (1,2,3,7,9,14,22)\n",
    "for demetElemanlari in demet:\n",
    "    print(demetElemanlari)"
   ]
  },
  {
   "cell_type": "code",
   "execution_count": 26,
   "metadata": {},
   "outputs": [
    {
     "name": "stdout",
     "output_type": "stream",
     "text": [
      "(43, 53)\n",
      "(14, 21)\n",
      "(34, 78)\n"
     ]
    }
   ],
   "source": [
    "# Şimdi liste içinde 2 boyutlu demet oluşturalım ve döngülerde kullanalım.\n",
    "newDemet = [(43,53),(14,21),(34,78)]\n",
    "for newDemetElemanlari in newDemet:\n",
    "    print(newDemetElemanlari)"
   ]
  },
  {
   "cell_type": "code",
   "execution_count": 28,
   "metadata": {},
   "outputs": [
    {
     "name": "stdout",
     "output_type": "stream",
     "text": [
      "i: 43, j: 53\n",
      "i: 14, j: 21\n",
      "i: 34, j: 78\n"
     ]
    }
   ],
   "source": [
    "for i,j in newDemet:\n",
    "    print(\"i: {}, j: {}\".format(i,j))"
   ]
  },
  {
   "cell_type": "code",
   "execution_count": 35,
   "metadata": {},
   "outputs": [
    {
     "name": "stdout",
     "output_type": "stream",
     "text": [
      "bir\n",
      "iki\n",
      "üç\n"
     ]
    }
   ],
   "source": [
    "# Sözlüklerde nasıl kullanımlar var onları da bir deneyelim.\n",
    "sözlük = {\"bir\":1,\"iki\":2,\"üç\":3}\n",
    "for eleman in sözlük:\n",
    "    print(eleman)"
   ]
  },
  {
   "cell_type": "code",
   "execution_count": 36,
   "metadata": {},
   "outputs": [
    {
     "name": "stdout",
     "output_type": "stream",
     "text": [
      "bir\n",
      "iki\n",
      "üç\n"
     ]
    }
   ],
   "source": [
    "# For döngüsü ile sözlüklerin keylerini yazdırabiliriz.\n",
    "for eleman in sözlük.keys():\n",
    "    print(eleman)"
   ]
  },
  {
   "cell_type": "code",
   "execution_count": 37,
   "metadata": {},
   "outputs": [
    {
     "name": "stdout",
     "output_type": "stream",
     "text": [
      "1\n",
      "2\n",
      "3\n"
     ]
    }
   ],
   "source": [
    "# Şimdi for döngüsünü kullanarak valuelarını yazdıralım.\n",
    "for eleman in sözlük.values():\n",
    "    print(eleman)"
   ]
  },
  {
   "cell_type": "code",
   "execution_count": 40,
   "metadata": {},
   "outputs": [
    {
     "data": {
      "text/plain": [
       "dict_items([('bir', 1), ('iki', 2), ('üç', 3)])"
      ]
     },
     "execution_count": 40,
     "metadata": {},
     "output_type": "execute_result"
    }
   ],
   "source": [
    "# Sözlüğin sahip olduğu key ve valuelara böylece görmüş olduk.\n",
    "sözlük.items()"
   ]
  },
  {
   "cell_type": "code",
   "execution_count": 41,
   "metadata": {},
   "outputs": [
    {
     "name": "stdout",
     "output_type": "stream",
     "text": [
      "Key: bir, Value: 1\n",
      "Key: iki, Value: 2\n",
      "Key: üç, Value: 3\n"
     ]
    }
   ],
   "source": [
    "for i,j in sözlük.items():\n",
    "    print(\"Key: {0}, Value: {1}\".format(i,j))"
   ]
  },
  {
   "cell_type": "markdown",
   "metadata": {},
   "source": [
    "## While Döngüsü\n",
    "* Koşul sağlanana kadar döngü devam eder."
   ]
  },
  {
   "cell_type": "code",
   "execution_count": 47,
   "metadata": {},
   "outputs": [
    {
     "name": "stdout",
     "output_type": "stream",
     "text": [
      "Merhaba Dünya\n",
      "Merhaba Dünya\n",
      "Merhaba Dünya\n",
      "Merhaba Dünya\n",
      "Merhaba Dünya\n",
      "Merhaba Dünya\n",
      "Merhaba Dünya\n",
      "Merhaba Dünya\n",
      "Merhaba Dünya\n",
      "Merhaba Dünya\n"
     ]
    }
   ],
   "source": [
    "i = 0\n",
    "while (i < 10):\n",
    "    print(\"Merhaba Dünya\")\n",
    "    i += 1\n",
    "# Bu programda i, 10'dan küçük olduğu sürece ekrana Merhaba Dünya yaz dedik.\n",
    "# Döngü koşulu bittikten sonra program döngüden çıkar."
   ]
  },
  {
   "cell_type": "code",
   "execution_count": 52,
   "metadata": {},
   "outputs": [
    {
     "name": "stdout",
     "output_type": "stream",
     "text": [
      "İsminizi giriniz: adfsf\n",
      "İsminizi giriniz: asda\n",
      "İsminizi giriniz: asf\n",
      "İsminizi giriniz: adsf\n",
      "İsminizi giriniz: Rahman\n"
     ]
    }
   ],
   "source": [
    "isim = input(\"İsminizi giriniz: \")\n",
    "while (isim != \"Rahman\"):\n",
    "    isim = input(\"İsminizi giriniz: \")\n",
    "# İlk bir isim alıyoruz, ve eğer isim Rahman'a eşit değilse döngüye giriyor.\n",
    "# Döngüde de Rahman değerini alana kadar isim girmenizi istiyor."
   ]
  },
  {
   "cell_type": "markdown",
   "metadata": {},
   "source": [
    "## Range() Fonksiyonu\n",
    "* range(başlangıç, bitiş, artış) değerlerini alarak sayı üretir."
   ]
  },
  {
   "cell_type": "code",
   "execution_count": 55,
   "metadata": {},
   "outputs": [
    {
     "data": {
      "text/plain": [
       "range(0, 10)"
      ]
     },
     "execution_count": 55,
     "metadata": {},
     "output_type": "execute_result"
    }
   ],
   "source": [
    "# 0'dan başlayıp 10'a kadar sayı üretiyoruz.\n",
    "range(0,10)\n",
    "# Ama tabii ki tek başına yeterli olmuyor."
   ]
  },
  {
   "cell_type": "code",
   "execution_count": 56,
   "metadata": {},
   "outputs": [
    {
     "name": "stdout",
     "output_type": "stream",
     "text": [
      "range(0, 10)\n"
     ]
    }
   ],
   "source": [
    "# Ürettiğimiz sayıları print ile yine ekranda bir şey göremeyeceğiz.\n",
    "print(range(0,10))"
   ]
  },
  {
   "cell_type": "code",
   "execution_count": 59,
   "metadata": {},
   "outputs": [
    {
     "name": "stdout",
     "output_type": "stream",
     "text": [
      "0 1 2 3 4 5 6 7 8 9\n"
     ]
    }
   ],
   "source": [
    "# E o zaman ne yapacağız? - range fonksiyonunun başına * ekleyerek ürettiğimiz değerleri ekrana basabiliriz.\n",
    "print(*range(0,10))"
   ]
  },
  {
   "cell_type": "code",
   "execution_count": 84,
   "metadata": {},
   "outputs": [
    {
     "name": "stdout",
     "output_type": "stream",
     "text": [
      "[0, 1, 2, 3, 4, 5, 6, 7, 8, 9]\n"
     ]
    }
   ],
   "source": [
    "# Listeye 0 ile 10 arasındaki değerleri ekleyebilir miyiz? (0 ile 100'de olur, sadece örnek için 10 yazıyoruz.)\n",
    "newListFor = list()\n",
    "for i in range(0,10):\n",
    "    newListFor.append(i)\n",
    "print(newListFor)"
   ]
  },
  {
   "cell_type": "code",
   "execution_count": 74,
   "metadata": {},
   "outputs": [
    {
     "name": "stdout",
     "output_type": "stream",
     "text": [
      "0\n",
      "1\n",
      "2\n",
      "3\n",
      "4\n",
      "5\n",
      "6\n",
      "7\n",
      "8\n",
      "9\n",
      "10\n",
      "11\n",
      "12\n",
      "13\n",
      "14\n",
      "15\n",
      "16\n",
      "17\n",
      "18\n",
      "19\n"
     ]
    }
   ],
   "source": [
    "# Range'deki değerleri for sayesinde ekrana yazdırabiliriz.\n",
    "# Diğer programlama dillerindeki for(int i = 0; i < 20; i++) olarak düşünebiliriz.\n",
    "for i in range(0,20):\n",
    "    print(i)"
   ]
  },
  {
   "cell_type": "code",
   "execution_count": 77,
   "metadata": {},
   "outputs": [
    {
     "name": "stdout",
     "output_type": "stream",
     "text": [
      "0\n",
      "2\n",
      "4\n",
      "6\n",
      "8\n",
      "10\n",
      "12\n",
      "14\n",
      "16\n",
      "18\n"
     ]
    }
   ],
   "source": [
    "# Diğer programlama dillerinde: for(int i = 0; i < 20; i+=2)\n",
    "# 0'dan 20'ye kadar sayıları oluştur ve ikişer ikişer arttır. Bunları ekrana yazdır.\n",
    "for i in range(0,20,2):\n",
    "    print(i)"
   ]
  },
  {
   "cell_type": "markdown",
   "metadata": {},
   "source": [
    "## Break - Continue\n",
    "* Break: Kullandığımızda döngüyü burada bitir anlamına geliyor.\n",
    "* Continue: Kullandığımızda döngüdeki o yeri atla ve döngüye devam et."
   ]
  },
  {
   "cell_type": "code",
   "execution_count": 81,
   "metadata": {},
   "outputs": [
    {
     "name": "stdout",
     "output_type": "stream",
     "text": [
      "0\n",
      "1\n",
      "2\n",
      "3\n",
      "4\n"
     ]
    }
   ],
   "source": [
    "# Bu programda şunu dedik: 0'dan 10'a kadar değer oluştur ama eğer değer 5 oldu mu döngüyü bitir.\n",
    "for i in range(0,10):\n",
    "    if(i == 5):\n",
    "        break\n",
    "    print(i)"
   ]
  },
  {
   "cell_type": "code",
   "execution_count": 83,
   "metadata": {},
   "outputs": [
    {
     "name": "stdout",
     "output_type": "stream",
     "text": [
      "0\n",
      "1\n",
      "2\n",
      "3\n",
      "4\n",
      "6\n",
      "7\n",
      "8\n",
      "9\n"
     ]
    }
   ],
   "source": [
    "# Bu programda da şunu dedik: 0'dan 10'a kadar değer oluştur ama eğer değer 5 ise bu değeri atla.\n",
    "for i in range(0,10):\n",
    "    if(i == 5):\n",
    "        continue\n",
    "    print(i)"
   ]
  }
 ],
 "metadata": {
  "kernelspec": {
   "display_name": "Python 3",
   "language": "python",
   "name": "python3"
  },
  "language_info": {
   "codemirror_mode": {
    "name": "ipython",
    "version": 3
   },
   "file_extension": ".py",
   "mimetype": "text/x-python",
   "name": "python",
   "nbconvert_exporter": "python",
   "pygments_lexer": "ipython3",
   "version": "3.8.5"
  }
 },
 "nbformat": 4,
 "nbformat_minor": 4
}
